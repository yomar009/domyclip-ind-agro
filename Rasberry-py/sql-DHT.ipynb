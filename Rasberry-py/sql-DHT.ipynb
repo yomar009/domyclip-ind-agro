{
 "cells": [
  {
   "cell_type": "code",
   "execution_count": null,
   "metadata": {},
   "outputs": [],
   "source": [
    "import Adafruit_DHT\n",
    "import schedule\n",
    "import time\n",
    "import mysql.connector\n",
    "\n",
    "# Configuración del sensor\n",
    "sensor = Adafruit_DHT.DHT11\n",
    "pin = 4  # El número del pin GPIO al que está conectado el sensor\n"
   ]
  },
  {
   "cell_type": "code",
   "execution_count": null,
   "metadata": {},
   "outputs": [],
   "source": [
    "# Configuración de la base de datos\n",
    "db_config = {\n",
    "    'user': 'tu_usuario',\n",
    "    'password': 'tu_contraseña',\n",
    "    'host': 'localhost',\n",
    "    'database': 'nombre_de_tu_base_de_datos'\n",
    "}\n"
   ]
  },
  {
   "cell_type": "code",
   "execution_count": null,
   "metadata": {},
   "outputs": [],
   "source": [
    "# Función para leer datos del sensor y guardar en la base de datos\n",
    "def read_and_save_data():\n",
    "    humidity, temperature = Adafruit_DHT.read_retry(sensor, pin)\n",
    "\n",
    "    # Imprimir los valores (también puedes devolverlos como cadena JSON)\n",
    "    print(f'Temperatura: {temperature}°C, Humedad: {humidity}%')\n",
    "\n",
    "    # Guardar en la base de datos\n",
    "    try:\n",
    "        connection = mysql.connector.connect(**db_config)\n",
    "        cursor = connection.cursor()\n",
    "\n",
    "        # Insertar datos en la tabla de la base de datos\n",
    "        insert_query = \"INSERT INTO nombre_de_tu_tabla (temperatura, humedad) VALUES (%s, %s)\"\n",
    "        cursor.execute(insert_query, (temperature, humidity))\n",
    "        connection.commit()\n",
    "\n",
    "    except Exception as e:\n",
    "        print(f\"Error al insertar en la base de datos: {e}\")\n",
    "\n",
    "    finally:\n",
    "        if connection.is_connected():\n",
    "            cursor.close()\n",
    "            connection.close()\n",
    "\n",
    "# Programar la ejecución del script cada hora\n",
    "schedule.every().hour.do(read_and_save_data)\n",
    "\n",
    "# Ejecutar el script continuamente\n",
    "while True:\n",
    "    schedule.run_pending()\n",
    "    time.sleep(1)"
   ]
  }
 ],
 "metadata": {
  "kernelspec": {
   "display_name": "mi_entorno_virtual",
   "language": "python",
   "name": "python3"
  },
  "language_info": {
   "name": "python",
   "version": "3.11.4"
  }
 },
 "nbformat": 4,
 "nbformat_minor": 2
}
